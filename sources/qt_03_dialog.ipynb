{
 "cells": [
  {
   "cell_type": "code",
   "execution_count": 1,
   "metadata": {},
   "outputs": [],
   "source": [
    "import sys\n",
    "from PyQt5.QtWidgets import *"
   ]
  },
  {
   "cell_type": "code",
   "execution_count": 2,
   "metadata": {},
   "outputs": [],
   "source": [
    "class MyWindow(QWidget):\n",
    "    def __init__(self):\n",
    "        super().__init__()\n",
    "        self.setupUI()\n",
    "\n",
    "    def setupUI(self):\n",
    "        self.setGeometry(800, 200, 300, 300)\n",
    "        self.setWindowTitle(\"PyStock v0.1\")\n",
    "\n",
    "        self.pushButton = QPushButton(\"Input number\")\n",
    "        self.pushButton.clicked.connect(self.pushButtonClicked)\n",
    "        self.label = QLabel()\n",
    "\n",
    "        layout = QVBoxLayout()\n",
    "        layout.addWidget(self.pushButton)\n",
    "        layout.addWidget(self.label)\n",
    "\n",
    "        self.setLayout(layout)\n",
    "\n",
    "    def pushButtonClicked(self):\n",
    "        text, ok = QInputDialog.getInt(self, '노드 선택', '노드 번호를 입력하세요.')\n",
    "        if ok:\n",
    "            self.label.setText(str(text))"
   ]
  },
  {
   "cell_type": "code",
   "execution_count": 3,
   "metadata": {},
   "outputs": [],
   "source": [
    "if __name__ == \"__main__\":\n",
    "    app = QApplication(sys.argv)\n",
    "    window = MyWindow()\n",
    "    window.show()\n",
    "    app.exec_()"
   ]
  },
  {
   "cell_type": "code",
   "execution_count": null,
   "metadata": {},
   "outputs": [],
   "source": []
  }
 ],
 "metadata": {
  "kernelspec": {
   "display_name": "Python 3",
   "language": "python",
   "name": "python3"
  },
  "language_info": {
   "codemirror_mode": {
    "name": "ipython",
    "version": 3
   },
   "file_extension": ".py",
   "mimetype": "text/x-python",
   "name": "python",
   "nbconvert_exporter": "python",
   "pygments_lexer": "ipython3",
   "version": "3.5.2"
  }
 },
 "nbformat": 4,
 "nbformat_minor": 2
}
