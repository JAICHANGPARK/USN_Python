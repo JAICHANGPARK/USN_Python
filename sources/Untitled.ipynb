{
 "cells": [
  {
   "cell_type": "code",
   "execution_count": null,
   "metadata": {},
   "outputs": [],
   "source": [
    "import sys\n",
    "from PyQt5.QtWidgets import *\n",
    "from PyQt5.QtGui import *"
   ]
  },
  {
   "cell_type": "code",
   "execution_count": null,
   "metadata": {},
   "outputs": [],
   "source": [
    "class LogInDialog(QDialog):\n",
    "    def __init__(self):\n",
    "        super().__init__()\n",
    "        self.setupUI()\n",
    "\n",
    "        self.id = None\n",
    "        self.password = None\n",
    "\n",
    "    def setupUI(self):\n",
    "        self.setGeometry(1100, 200, 300, 100)\n",
    "        self.setWindowTitle(\"Sign In\")\n",
    "        self.setWindowIcon(QIcon('icon.png'))\n",
    "\n",
    "        label1 = QLabel(\"ID: \")\n",
    "        label2 = QLabel(\"Password: \")\n",
    "\n",
    "        self.lineEdit1 = QLineEdit()\n",
    "        self.lineEdit2 = QLineEdit()\n",
    "        self.pushButton1= QPushButton(\"Sign In\")\n",
    "        self.pushButton1.clicked.connect(self.pushButtonClicked)\n",
    "\n",
    "        layout = QGridLayout()\n",
    "        layout.addWidget(label1, 0, 0)\n",
    "        layout.addWidget(self.lineEdit1, 0, 1)\n",
    "        layout.addWidget(self.pushButton1, 0, 2)\n",
    "        layout.addWidget(label2, 1, 0)\n",
    "        layout.addWidget(self.lineEdit2, 1, 1)\n",
    "\n",
    "        self.setLayout(layout)\n",
    "\n",
    "    def pushButtonClicked(self):\n",
    "        self.id = self.lineEdit1.text()\n",
    "        self.password = self.lineEdit2.text()\n",
    "        self.close()"
   ]
  },
  {
   "cell_type": "code",
   "execution_count": null,
   "metadata": {},
   "outputs": [],
   "source": [
    "class MyWindow(QWidget):\n",
    "    def __init__(self):\n",
    "        super().__init__()\n",
    "        self.setupUI()\n",
    "\n",
    "    def setupUI(self):\n",
    "        self.setGeometry(800, 200, 300, 300)\n",
    "        self.setWindowTitle(\"PyStock v0.1\")\n",
    "        self.setWindowIcon(QIcon('icon.png'))\n",
    "\n",
    "        self.pushButton = QPushButton(\"Sign In\")\n",
    "        self.pushButton.clicked.connect(self.pushButtonClicked)\n",
    "        self.label = QLabel()\n",
    "\n",
    "        layout = QVBoxLayout()\n",
    "        layout.addWidget(self.pushButton)\n",
    "        layout.addWidget(self.label)\n",
    "\n",
    "        self.setLayout(layout)\n",
    "\n",
    "    def pushButtonClicked(self):\n",
    "        dlg = LogInDialog()\n",
    "        dlg.exec_()\n",
    "        id = dlg.id\n",
    "        password = dlg.password\n",
    "        self.label.setText(\"id: %s password: %s\" % (id, password))"
   ]
  },
  {
   "cell_type": "code",
   "execution_count": null,
   "metadata": {},
   "outputs": [],
   "source": [
    "if __name__ == \"__main__\":\n",
    "    app = QApplication(sys.argv)\n",
    "    window = MyWindow()\n",
    "    window.show()\n",
    "    app.exec_()"
   ]
  },
  {
   "cell_type": "code",
   "execution_count": 7,
   "metadata": {},
   "outputs": [],
   "source": [
    "hello =\"1\""
   ]
  },
  {
   "cell_type": "code",
   "execution_count": 8,
   "metadata": {},
   "outputs": [
    {
     "name": "stdout",
     "output_type": "stream",
     "text": [
      "hmm?\n"
     ]
    }
   ],
   "source": [
    "if hello:\n",
    "    print('hmm?')\n",
    "elif not hello:\n",
    "    print(\"fuck\")"
   ]
  },
  {
   "cell_type": "code",
   "execution_count": 12,
   "metadata": {},
   "outputs": [],
   "source": [
    "def asd(node_num):\n",
    "    \n",
    "    sql = \"\"\"select * from usnnode where node=\"\"\" + str(node_num)\n",
    "    print(sql)"
   ]
  },
  {
   "cell_type": "code",
   "execution_count": 13,
   "metadata": {},
   "outputs": [
    {
     "name": "stdout",
     "output_type": "stream",
     "text": [
      "select * from usnnode where node=1\n"
     ]
    }
   ],
   "source": [
    "asd(1)"
   ]
  },
  {
   "cell_type": "code",
   "execution_count": null,
   "metadata": {},
   "outputs": [],
   "source": []
  }
 ],
 "metadata": {
  "kernelspec": {
   "display_name": "Python 3",
   "language": "python",
   "name": "python3"
  },
  "language_info": {
   "codemirror_mode": {
    "name": "ipython",
    "version": 3
   },
   "file_extension": ".py",
   "mimetype": "text/x-python",
   "name": "python",
   "nbconvert_exporter": "python",
   "pygments_lexer": "ipython3",
   "version": "3.5.2"
  }
 },
 "nbformat": 4,
 "nbformat_minor": 2
}
